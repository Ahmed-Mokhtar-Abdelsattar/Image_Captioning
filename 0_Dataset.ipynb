{
 "cells": [
  {
   "cell_type": "markdown",
   "metadata": {},
   "source": [
    "# Computer Vision Nanodegree\n",
    "\n",
    "## Project: Image Captioning\n",
    "\n",
    "---\n",
    "\n",
    "The Microsoft **C**ommon **O**bjects in **CO**ntext (MS COCO) dataset is a large-scale dataset for scene understanding.  The dataset is commonly used to train and benchmark object detection, segmentation, and captioning algorithms.  \n",
    "\n",
    "![Sample Dog Output](images/coco-examples.jpg)\n",
    "\n",
    "You can read more about the dataset on the [website](http://cocodataset.org/#home) or in the [research paper](https://arxiv.org/pdf/1405.0312.pdf).\n",
    "\n",
    "In this notebook, you will explore this dataset, in preparation for the project.\n",
    "\n",
    "## Step 1: Initialize the COCO API\n",
    "\n",
    "We begin by initializing the [COCO API](https://github.com/cocodataset/cocoapi) that you will use to obtain the data."
   ]
  },
  {
   "cell_type": "code",
   "execution_count": 12,
   "metadata": {
    "tags": []
   },
   "outputs": [
    {
     "output_type": "stream",
     "name": "stdout",
     "text": "Collecting pycocotoolsNote: you may need to restart the kernel to use updated packages.\n  ERROR: Command errored out with exit status 1:\n   command: 'C:\\Users\\dell\\anaconda3\\envs\\opencv-env\\python.exe' -u -c 'import sys, setuptools, tokenize; sys.argv[0] = '\"'\"'C:\\\\Users\\\\dell\\\\AppData\\\\Local\\\\Temp\\\\pip-install-lizxctp7\\\\pycocotools\\\\setup.py'\"'\"'; __file__='\"'\"'C:\\\\Users\\\\dell\\\\AppData\\\\Local\\\\Temp\\\\pip-install-lizxctp7\\\\pycocotools\\\\setup.py'\"'\"';f=getattr(tokenize, '\"'\"'open'\"'\"', open)(__file__);code=f.read().replace('\"'\"'\\r\\n'\"'\"', '\"'\"'\\n'\"'\"');f.close();exec(compile(code, __file__, '\"'\"'exec'\"'\"'))' bdist_wheel -d 'C:\\Users\\dell\\AppData\\Local\\Temp\\pip-wheel-zdfd4vd7'\n       cwd: C:\\Users\\dell\\AppData\\Local\\Temp\\pip-install-lizxctp7\\pycocotools\\\n  Complete output (20 lines):\n  running bdist_wheel\n  running build\n  running build_py\n  creating build\n  creating build\\lib.win-amd64-3.6\n  creating build\\lib.win-amd64-3.6\\pycocotools\n  copying pycocotools\\coco.py -> build\\lib.win-amd64-3.6\\pycocotools\n  copying pycocotools\\cocoeval.py -> build\\lib.win-amd64-3.6\\pycocotools\n  copying pycocotools\\mask.py -> build\\lib.win-amd64-3.6\\pycocotools\n  copying pycocotools\\__init__.py -> build\\lib.win-amd64-3.6\\pycocotools\n  running build_ext\n  cythoning pycocotools/_mask.pyx to pycocotools\\_mask.c\n  building 'pycocotools._mask' extension\n  creating build\\temp.win-amd64-3.6\n  creating build\\temp.win-amd64-3.6\\Release\n  creating build\\temp.win-amd64-3.6\\Release\\common\n  creating build\\temp.win-amd64-3.6\\Release\\pycocotools\n  C:\\Program Files (x86)\\Microsoft Visual Studio\\2019\\Community\\VC\\Tools\\MSVC\\14.25.28610\\bin\\HostX86\\x64\\cl.exe /c /nologo /Ox /W3 /GL /DNDEBUG /MD -IC:\\Users\\dell\\anaconda3\\envs\\opencv-env\\lib\\site-packages\\numpy\\core\\include -I./common -IC:\\Users\\dell\\anaconda3\\envs\\opencv-env\\include -IC:\\Users\\dell\\anaconda3\\envs\\opencv-env\\include \"-IC:\\Program Files (x86)\\Microsoft Visual Studio\\2019\\Community\\VC\\Tools\\MSVC\\14.25.28610\\ATLMFC\\include\" \"-IC:\\Program Files (x86)\\Microsoft Visual Studio\\2019\\Community\\VC\\Tools\\MSVC\\14.25.28610\\include\" \"-IC:\\Program Files (x86)\\Windows Kits\\NETFXSDK\\4.8\\include\\um\" \"-IC:\\Program Files (x86)\\Windows Kits\\10\\include\\10.0.18362.0\\ucrt\" \"-IC:\\Program Files (x86)\\Windows Kits\\10\\include\\10.0.18362.0\\shared\" \"-IC:\\Program Files (x86)\\Windows Kits\\10\\include\\10.0.18362.0\\um\" \"-IC:\\Program Files (x86)\\Windows Kits\\10\\include\\10.0.18362.0\\winrt\" \"-IC:\\Program Files (x86)\\Windows Kits\\10\\include\\10.0.18362.0\\cppwinrt\" /Tc./common/maskApi.c /Fobuild\\temp.win-amd64-3.6\\Release\\./common/maskApi.obj -Wno-cpp -Wno-unused-function -std=c99\n  cl : Command line error D8021 : invalid numeric argument '/Wno-cpp'\n  error: command 'C:\\\\Program Files (x86)\\\\Microsoft Visual Studio\\\\2019\\\\Community\\\\VC\\\\Tools\\\\MSVC\\\\14.25.28610\\\\bin\\\\HostX86\\\\x64\\\\cl.exe' failed with exit status 2\n  ----------------------------------------\n  ERROR: Failed building wheel for pycocotools\n    ERROR: Command errored out with exit status 1:\n     command: 'C:\\Users\\dell\\anaconda3\\envs\\opencv-env\\python.exe' -u -c 'import sys, setuptools, tokenize; sys.argv[0] = '\"'\"'C:\\\\Users\\\\dell\\\\AppData\\\\Local\\\\Temp\\\\pip-install-lizxctp7\\\\pycocotools\\\\setup.py'\"'\"'; __file__='\"'\"'C:\\\\Users\\\\dell\\\\AppData\\\\Local\\\\Temp\\\\pip-install-lizxctp7\\\\pycocotools\\\\setup.py'\"'\"';f=getattr(tokenize, '\"'\"'open'\"'\"', open)(__file__);code=f.read().replace('\"'\"'\\r\\n'\"'\"', '\"'\"'\\n'\"'\"');f.close();exec(compile(code, __file__, '\"'\"'exec'\"'\"'))' install --record 'C:\\Users\\dell\\AppData\\Local\\Temp\\pip-record-on7zi5dn\\install-record.txt' --single-version-externally-managed --compile --install-headers 'C:\\Users\\dell\\anaconda3\\envs\\opencv-env\\Include\\pycocotools'\n         cwd: C:\\Users\\dell\\AppData\\Local\\Temp\\pip-install-lizxctp7\\pycocotools\\\n    Complete output (20 lines):\n    running install\n    running build\n    running build_py\n    creating build\n    creating build\\lib.win-amd64-3.6\n    creating build\\lib.win-amd64-3.6\\pycocotools\n    copying pycocotools\\coco.py -> build\\lib.win-amd64-3.6\\pycocotools\n    copying pycocotools\\cocoeval.py -> build\\lib.win-amd64-3.6\\pycocotools\n    copying pycocotools\\mask.py -> build\\lib.win-amd64-3.6\\pycocotools\n    copying pycocotools\\__init__.py -> build\\lib.win-amd64-3.6\\pycocotools\n    running build_ext\n    skipping 'pycocotools\\_mask.c' Cython extension (up-to-date)\n    building 'pycocotools._mask' extension\n    creating build\\temp.win-amd64-3.6\n\n  Using cached pycocotools-2.0.1.tar.gz (23 kB)\nRequirement already satisfied: setuptools>=18.0 in c:\\users\\dell\\anaconda3\\envs\\opencv-env\\lib\\site-packages (from pycocotools) (46.1.3.post20200330)\nRequirement already satisfied: cython>=0.27.3 in c:\\users\\dell\\anaconda3\\envs\\opencv-env\\lib\\site-packages (from pycocotools) (0.29.21)\nRequirement already satisfied: matplotlib>=2.1.0 in c:\\users\\dell\\anaconda3\\envs\\opencv-env\\lib\\site-packages (from pycocotools) (3.2.1)\nRequirement already satisfied: python-dateutil>=2.1 in c:\\users\\dell\\anaconda3\\envs\\opencv-env\\lib\\site-packages (from matplotlib>=2.1.0->pycocotools) (2.8.1)\nRequirement already satisfied: numpy>=1.11 in c:\\users\\dell\\anaconda3\\envs\\opencv-env\\lib\\site-packages (from matplotlib>=2.1.0->pycocotools) (1.18.2)\nRequirement already satisfied: pyparsing!=2.0.4,!=2.1.2,!=2.1.6,>=2.0.1 in c:\\users\\dell\\anaconda3\\envs\\opencv-env\\lib\\site-packages (from matplotlib>=2.1.0->pycocotools) (2.4.7)\nRequirement already satisfied: cycler>=0.10 in c:\\users\\dell\\anaconda3\\envs\\opencv-env\\lib\\site-packages (from matplotlib>=2.1.0->pycocotools) (0.10.0)\nRequirement already satisfied: kiwisolver>=1.0.1 in c:\\users\\dell\\anaconda3\\envs\\opencv-env\\lib\\site-packages (from matplotlib>=2.1.0->pycocotools) (1.2.0)\nRequirement already satisfied: six>=1.5 in c:\\users\\dell\\anaconda3\\envs\\opencv-env\\lib\\site-packages (from python-dateutil>=2.1->matplotlib>=2.1.0->pycocotools) (1.14.0)\nBuilding wheels for collected packages: pycocotools\n  Building wheel for pycocotools (setup.py): started\n  Building wheel for pycocotools (setup.py): finished with status 'error'\n  Running setup.py clean for pycocotools\nFailed to build pycocotools\nInstalling collected packages: pycocotools\n    Running setup.py install for pycocotools: started\n    Running setup.py install for pycocotools: finished with status 'error'\n    creating build\\temp.win-amd64-3.6\\Release\n    creating build\\temp.win-amd64-3.6\\Release\\common\n    creating build\\temp.win-amd64-3.6\\Release\\pycocotools\n    C:\\Program Files (x86)\\Microsoft Visual Studio\\2019\\Community\\VC\\Tools\\MSVC\\14.25.28610\\bin\\HostX86\\x64\\cl.exe /c /nologo /Ox /W3 /GL /DNDEBUG /MD -IC:\\Users\\dell\\anaconda3\\envs\\opencv-env\\lib\\site-packages\\numpy\\core\\include -I./common -IC:\\Users\\dell\\anaconda3\\envs\\opencv-env\\include -IC:\\Users\\dell\\anaconda3\\envs\\opencv-env\\include \"-IC:\\Program Files (x86)\\Microsoft Visual Studio\\2019\\Community\\VC\\Tools\\MSVC\\14.25.28610\\ATLMFC\\include\" \"-IC:\\Program Files (x86)\\Microsoft Visual Studio\\2019\\Community\\VC\\Tools\\MSVC\\14.25.28610\\include\" \"-IC:\\Program Files (x86)\\Windows Kits\\NETFXSDK\\4.8\\include\\um\" \"-IC:\\Program Files (x86)\\Windows Kits\\10\\include\\10.0.18362.0\\ucrt\" \"-IC:\\Program Files (x86)\\Windows Kits\\10\\include\\10.0.18362.0\\shared\" \"-IC:\\Program Files (x86)\\Windows Kits\\10\\include\\10.0.18362.0\\um\" \"-IC:\\Program Files (x86)\\Windows Kits\\10\\include\\10.0.18362.0\\winrt\" \"-IC:\\Program Files (x86)\\Windows Kits\\10\\include\\10.0.18362.0\\cppwinrt\" /Tc./common/maskApi.c /Fobuild\\temp.win-amd64-3.6\\Release\\./common/maskApi.obj -Wno-cpp -Wno-unused-function -std=c99\n    cl : Command line error D8021 : invalid numeric argument '/Wno-cpp'\n    error: command 'C:\\\\Program Files (x86)\\\\Microsoft Visual Studio\\\\2019\\\\Community\\\\VC\\\\Tools\\\\MSVC\\\\14.25.28610\\\\bin\\\\HostX86\\\\x64\\\\cl.exe' failed with exit status 2\n    ----------------------------------------\nERROR: Command errored out with exit status 1: 'C:\\Users\\dell\\anaconda3\\envs\\opencv-env\\python.exe' -u -c 'import sys, setuptools, tokenize; sys.argv[0] = '\"'\"'C:\\\\Users\\\\dell\\\\AppData\\\\Local\\\\Temp\\\\pip-install-lizxctp7\\\\pycocotools\\\\setup.py'\"'\"'; __file__='\"'\"'C:\\\\Users\\\\dell\\\\AppData\\\\Local\\\\Temp\\\\pip-install-lizxctp7\\\\pycocotools\\\\setup.py'\"'\"';f=getattr(tokenize, '\"'\"'open'\"'\"', open)(__file__);code=f.read().replace('\"'\"'\\r\\n'\"'\"', '\"'\"'\\n'\"'\"');f.close();exec(compile(code, __file__, '\"'\"'exec'\"'\"'))' install --record 'C:\\Users\\dell\\AppData\\Local\\Temp\\pip-record-on7zi5dn\\install-record.txt' --single-version-externally-managed --compile --install-headers 'C:\\Users\\dell\\anaconda3\\envs\\opencv-env\\Include\\pycocotools' Check the logs for full command output.\n"
    }
   ],
   "source": [
    "pip install pycocotools"
   ]
  },
  {
   "cell_type": "code",
   "execution_count": 13,
   "metadata": {},
   "outputs": [
    {
     "output_type": "error",
     "ename": "ModuleNotFoundError",
     "evalue": "No module named 'pycocotools'",
     "traceback": [
      "\u001b[1;31m---------------------------------------------------------------------------\u001b[0m",
      "\u001b[1;31mModuleNotFoundError\u001b[0m                       Traceback (most recent call last)",
      "\u001b[1;32m<ipython-input-13-7b3f35ca7e9b>\u001b[0m in \u001b[0;36m<module>\u001b[1;34m\u001b[0m\n\u001b[0;32m      2\u001b[0m \u001b[1;32mimport\u001b[0m \u001b[0msys\u001b[0m\u001b[1;33m\u001b[0m\u001b[1;33m\u001b[0m\u001b[0m\n\u001b[0;32m      3\u001b[0m \u001b[0msys\u001b[0m\u001b[1;33m.\u001b[0m\u001b[0mpath\u001b[0m\u001b[1;33m.\u001b[0m\u001b[0mappend\u001b[0m\u001b[1;33m(\u001b[0m\u001b[1;34m'/opt/cocoapi/PythonAPI'\u001b[0m\u001b[1;33m)\u001b[0m\u001b[1;33m\u001b[0m\u001b[1;33m\u001b[0m\u001b[0m\n\u001b[1;32m----> 4\u001b[1;33m \u001b[1;32mfrom\u001b[0m \u001b[0mpycocotools\u001b[0m\u001b[1;33m.\u001b[0m\u001b[0mcoco\u001b[0m \u001b[1;32mimport\u001b[0m \u001b[0mCOCO\u001b[0m\u001b[1;33m\u001b[0m\u001b[1;33m\u001b[0m\u001b[0m\n\u001b[0m\u001b[0;32m      5\u001b[0m \u001b[1;33m\u001b[0m\u001b[0m\n\u001b[0;32m      6\u001b[0m \u001b[1;31m# initialize COCO API for instance annotations\u001b[0m\u001b[1;33m\u001b[0m\u001b[1;33m\u001b[0m\u001b[1;33m\u001b[0m\u001b[0m\n",
      "\u001b[1;31mModuleNotFoundError\u001b[0m: No module named 'pycocotools'"
     ]
    }
   ],
   "source": [
    "import os\n",
    "import sys\n",
    "sys.path.append('/opt/cocoapi/PythonAPI')\n",
    "from pycocotools.coco import COCO\n",
    "\n",
    "# initialize COCO API for instance annotations\n",
    "dataDir = '/opt/cocoapi'\n",
    "dataType = 'val2014'\n",
    "instances_annFile = os.path.join(dataDir, 'annotations/instances_{}.json'.format(dataType))\n",
    "coco = COCO(instances_annFile)\n",
    "\n",
    "# initialize COCO API for caption annotations\n",
    "captions_annFile = os.path.join(dataDir, 'annotations/captions_{}.json'.format(dataType))\n",
    "coco_caps = COCO(captions_annFile)\n",
    "\n",
    "# get image ids \n",
    "ids = list(coco.anns.keys())"
   ]
  },
  {
   "cell_type": "markdown",
   "metadata": {},
   "source": [
    "## Step 2: Plot a Sample Image\n",
    "\n",
    "Next, we plot a random image from the dataset, along with its five corresponding captions.  Each time you run the code cell below, a different image is selected.  \n",
    "\n",
    "In the project, you will use this dataset to train your own model to generate captions from images!"
   ]
  },
  {
   "cell_type": "code",
   "execution_count": 14,
   "metadata": {},
   "outputs": [
    {
     "output_type": "error",
     "ename": "ModuleNotFoundError",
     "evalue": "No module named 'skimage'",
     "traceback": [
      "\u001b[1;31m---------------------------------------------------------------------------\u001b[0m",
      "\u001b[1;31mModuleNotFoundError\u001b[0m                       Traceback (most recent call last)",
      "\u001b[1;32m<ipython-input-14-45ffdbc14c02>\u001b[0m in \u001b[0;36m<module>\u001b[1;34m\u001b[0m\n\u001b[0;32m      1\u001b[0m \u001b[1;32mimport\u001b[0m \u001b[0mnumpy\u001b[0m \u001b[1;32mas\u001b[0m \u001b[0mnp\u001b[0m\u001b[1;33m\u001b[0m\u001b[1;33m\u001b[0m\u001b[0m\n\u001b[1;32m----> 2\u001b[1;33m \u001b[1;32mimport\u001b[0m \u001b[0mskimage\u001b[0m\u001b[1;33m.\u001b[0m\u001b[0mio\u001b[0m \u001b[1;32mas\u001b[0m \u001b[0mio\u001b[0m\u001b[1;33m\u001b[0m\u001b[1;33m\u001b[0m\u001b[0m\n\u001b[0m\u001b[0;32m      3\u001b[0m \u001b[1;32mimport\u001b[0m \u001b[0mmatplotlib\u001b[0m\u001b[1;33m.\u001b[0m\u001b[0mpyplot\u001b[0m \u001b[1;32mas\u001b[0m \u001b[0mplt\u001b[0m\u001b[1;33m\u001b[0m\u001b[1;33m\u001b[0m\u001b[0m\n\u001b[0;32m      4\u001b[0m \u001b[0mget_ipython\u001b[0m\u001b[1;33m(\u001b[0m\u001b[1;33m)\u001b[0m\u001b[1;33m.\u001b[0m\u001b[0mrun_line_magic\u001b[0m\u001b[1;33m(\u001b[0m\u001b[1;34m'matplotlib'\u001b[0m\u001b[1;33m,\u001b[0m \u001b[1;34m'inline'\u001b[0m\u001b[1;33m)\u001b[0m\u001b[1;33m\u001b[0m\u001b[1;33m\u001b[0m\u001b[0m\n\u001b[0;32m      5\u001b[0m \u001b[1;33m\u001b[0m\u001b[0m\n",
      "\u001b[1;31mModuleNotFoundError\u001b[0m: No module named 'skimage'"
     ]
    }
   ],
   "source": [
    "import numpy as np\n",
    "import skimage.io as io\n",
    "import matplotlib.pyplot as plt\n",
    "%matplotlib inline\n",
    "\n",
    "# pick a random image and obtain the corresponding URL\n",
    "ann_id = np.random.choice(ids)\n",
    "img_id = coco.anns[ann_id]['image_id']\n",
    "img = coco.loadImgs(img_id)[0]\n",
    "url = img['coco_url']\n",
    "\n",
    "# print URL and visualize corresponding image\n",
    "print(url)\n",
    "I = io.imread(url)\n",
    "plt.axis('off')\n",
    "plt.imshow(I)\n",
    "plt.show()\n",
    "\n",
    "# load and display captions\n",
    "annIds = coco_caps.getAnnIds(imgIds=img['id']);\n",
    "anns = coco_caps.loadAnns(annIds)\n",
    "coco_caps.showAnns(anns)"
   ]
  },
  {
   "cell_type": "markdown",
   "metadata": {},
   "source": [
    "## Step 3: What's to Come!\n",
    "\n",
    "In this project, you will use the dataset of image-caption pairs to train a CNN-RNN model to automatically generate images from captions.  You'll learn more about how to design the architecture in the next notebook in the sequence (**1_Preliminaries.ipynb**).\n",
    "\n",
    "![Image Captioning CNN-RNN model](images/encoder-decoder.png)"
   ]
  }
 ],
 "metadata": {
  "anaconda-cloud": {},
  "kernelspec": {
   "display_name": "Python 3",
   "language": "python",
   "name": "python3"
  },
  "language_info": {
   "codemirror_mode": {
    "name": "ipython",
    "version": 3
   },
   "file_extension": ".py",
   "mimetype": "text/x-python",
   "name": "python",
   "nbconvert_exporter": "python",
   "pygments_lexer": "ipython3",
   "version": "3.6.4"
  }
 },
 "nbformat": 4,
 "nbformat_minor": 2
}